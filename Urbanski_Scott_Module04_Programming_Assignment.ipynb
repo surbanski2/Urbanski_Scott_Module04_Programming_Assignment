{
 "cells": [
  {
   "cell_type": "code",
   "execution_count": 6,
   "id": "ccc36d6f-8e89-4f04-99f0-8f124e61d017",
   "metadata": {},
   "outputs": [
    {
     "name": "stdout",
     "output_type": "stream",
     "text": [
      "Open 9-5 daily\n"
     ]
    }
   ],
   "source": [
    "import zoo\n",
    "\n",
    "zoo.hours()"
   ]
  },
  {
   "cell_type": "markdown",
   "id": "9f10c46e-4365-4318-99d3-9c5ac6397636",
   "metadata": {},
   "source": [
    "The zoo.py file was created within VSCode and imported. In order to use the hours() function, a zoo. prefix was needed as there could have theoretically been another hours() function defined within the main program."
   ]
  },
  {
   "cell_type": "code",
   "execution_count": 4,
   "id": "9ecefeb0-f13b-4c9e-9af4-4183b8fb7aa7",
   "metadata": {},
   "outputs": [
    {
     "name": "stdout",
     "output_type": "stream",
     "text": [
      "Open 9-5 daily\n"
     ]
    }
   ],
   "source": [
    "import zoo as menagerie\n",
    "\n",
    "menagerie.hours()"
   ]
  },
  {
   "cell_type": "markdown",
   "id": "82d5f37e-3df4-41d5-ac6d-b61e2d4ddbf2",
   "metadata": {},
   "source": [
    "This problem was exactly the same as the other, with the exception that zoo needed to be imported as an alias named \"menagerie\". This is typically done either to save time writing the module name or to make the module name more descriptive. This time the prefix needed to change to menagerie. and again the hours function was run."
   ]
  },
  {
   "cell_type": "code",
   "execution_count": 2,
   "id": "6d0a45ea-6229-42f9-b90a-ffa3b008e382",
   "metadata": {},
   "outputs": [],
   "source": [
    "import csv\n",
    "books = [['author','book'],['J R R Tolkien', 'The Hobbit'],['Lynee Truss','Eats, Shoots & Leaves']]\n",
    "with open('books','wt') as output:\n",
    "    csvoutput = csv.writer(output)\n",
    "    csvoutput.writerows(books)"
   ]
  },
  {
   "cell_type": "markdown",
   "id": "4a6440ae-2d3c-46af-b296-797398d50693",
   "metadata": {},
   "source": [
    "The csv module was imported and all the desired output was entered into a list of lists called books. Using the with open keyword will automatically close the 'books' file once it is done. Each list of books is then written as a row."
   ]
  },
  {
   "cell_type": "code",
   "execution_count": 3,
   "id": "07e2c4d7-cceb-45d4-9417-11f6298bff68",
   "metadata": {},
   "outputs": [
    {
     "name": "stdout",
     "output_type": "stream",
     "text": [
      "[{'author': 'author', 'book': 'book'}, {'author': 'J R R Tolkien', 'book': 'The Hobbit'}, {'author': 'Lynee Truss', 'book': 'Eats, Shoots & Leaves'}]\n"
     ]
    }
   ],
   "source": [
    "import csv\n",
    "with open('books', 'rt') as output:\n",
    "    csvoutput = csv.DictReader(output, fieldnames=['author', 'book'])\n",
    "    books = [row for row in csvoutput]\n",
    "\n",
    "print(books)"
   ]
  },
  {
   "cell_type": "markdown",
   "id": "976e08e0-2a1b-4a71-848d-87dc22877368",
   "metadata": {},
   "source": [
    "The csv module was imported and the 'books' file was opened and read. The DictReader method reads the 'books' file and outputs the data to a list of dictionaries called books. The DictReader method was able to handle the quotes and comma within the second book title."
   ]
  },
  {
   "cell_type": "code",
   "execution_count": 7,
   "id": "f3b7aec1-06ec-4f4c-ad1b-586c18266f8a",
   "metadata": {},
   "outputs": [],
   "source": [
    "import csv\n",
    "books = [{'title': 'The Weirdstone of Brisingamen', 'author': 'Alan Garner', 'year': '1960'},{'title': 'Perdido Street Station', 'author': 'China Mieville', 'year': '2000'},{'title': 'Thud!', 'author': 'Terry Pratchett', 'year': '2005'},{'title': 'The Spellman Files', 'author': 'Lisa Lutz', 'year': '2007'}, {'title': 'Small Gods', 'author': 'Terry Pratchett', 'year': '1992'}]\n",
    "with open('books2.csv', 'wt') as output:\n",
    "    csvoutput = csv.DictWriter(output, ['title', 'author', 'year'])\n",
    "    csvoutput.writeheader()\n",
    "    csvoutput.writerows(books)"
   ]
  },
  {
   "cell_type": "markdown",
   "id": "9f81bf7c-2fdc-4465-9fea-212ae0a7ba47",
   "metadata": {},
   "source": [
    "The csv module was imported and the books were stored in the books variable which is a list of dictionaries. That data is then written to a 'books2.csv' file. The writeheader method writes the keys as a header and the writerows method writes the values as rows."
   ]
  },
  {
   "cell_type": "code",
   "execution_count": 8,
   "id": "cb7c0454-ec83-4b60-b3f7-61e2f309c299",
   "metadata": {},
   "outputs": [
    {
     "name": "stdout",
     "output_type": "stream",
     "text": [
      "Table already exists.\n"
     ]
    }
   ],
   "source": [
    "import sqlite3\n",
    "conn = sqlite3.connect('books.db')\n",
    "curs = conn.cursor()\n",
    "try:\n",
    "    curs.execute('''CREATE TABLE books(title VARCHAR(40) PRIMARY KEY, author VARCHAR(40), year INT)''')\n",
    "except:\n",
    "    print(\"Table already exists.\")"
   ]
  },
  {
   "cell_type": "markdown",
   "id": "2f11afdb-6888-4c6e-84ed-439081d71fd4",
   "metadata": {},
   "source": [
    "Created a datebase connection with sqlite3"
   ]
  },
  {
   "cell_type": "code",
   "execution_count": 13,
   "id": "51ebaafe-214f-4598-9d08-e580776a87e5",
   "metadata": {},
   "outputs": [
    {
     "name": "stdout",
     "output_type": "stream",
     "text": [
      "An error has occurred.\n",
      "An error has occurred.\n",
      "An error has occurred.\n",
      "An error has occurred.\n",
      "An error has occurred.\n",
      "An error has occurred.\n"
     ]
    }
   ],
   "source": [
    "import csv \n",
    "\n",
    "with open('books2.csv', 'rt') as output:\n",
    "    csvoutput = csv.DictReader(output, fieldnames = ['title', 'author', 'year'])\n",
    "    books = [row for row in csvoutput]\n",
    "\n",
    "for item in books:\n",
    "    test = item['author']\n",
    "    title = item['title']\n",
    "    year = item['year']\n",
    "    insertStatement = '''INSERT INTO books(title, author, year) VALUES (\" + title + \", \" + test + \", \" + year +\")'''\n",
    "    try:\n",
    "        curs.execute(insertStatement)\n",
    "    except:\n",
    "        print(\"An error has occurred.\")\n",
    "\n",
    "\n",
    "    \n",
    "\n"
   ]
  },
  {
   "cell_type": "markdown",
   "id": "e51b7c15-74b1-42e5-9fb0-b18a7730d519",
   "metadata": {},
   "source": [
    "import sqlalchemy as sa\n",
    "conn = sa.create_engine('sqlite://')\n",
    "rows = conn.execute('SELECT * FROM books ORDER BY title ASC')\n",
    "for row in rows:\n",
    "    print(row)\n",
    "\n"
   ]
  },
  {
   "cell_type": "markdown",
   "id": "9a6eb60b-cde9-417e-82f6-7efa53b325cd",
   "metadata": {},
   "source": [
    "I keep coming up with an error for this. I think what I have is right though. I think there might be an issue with sqlalchemy."
   ]
  },
  {
   "cell_type": "code",
   "execution_count": null,
   "id": "acf54e35-022c-40f1-b77a-f61f1ba63ffe",
   "metadata": {},
   "outputs": [],
   "source": []
  }
 ],
 "metadata": {
  "kernelspec": {
   "display_name": "Python 3 (ipykernel)",
   "language": "python",
   "name": "python3"
  },
  "language_info": {
   "codemirror_mode": {
    "name": "ipython",
    "version": 3
   },
   "file_extension": ".py",
   "mimetype": "text/x-python",
   "name": "python",
   "nbconvert_exporter": "python",
   "pygments_lexer": "ipython3",
   "version": "3.12.7"
  }
 },
 "nbformat": 4,
 "nbformat_minor": 5
}
