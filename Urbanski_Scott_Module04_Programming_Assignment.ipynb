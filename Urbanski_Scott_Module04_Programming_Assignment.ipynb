{
 "cells": [
  {
   "cell_type": "code",
   "execution_count": 6,
   "id": "ccc36d6f-8e89-4f04-99f0-8f124e61d017",
   "metadata": {},
   "outputs": [
    {
     "name": "stdout",
     "output_type": "stream",
     "text": [
      "Open 9-5 daily\n"
     ]
    }
   ],
   "source": [
    "import zoo\n",
    "\n",
    "zoo.hours()"
   ]
  },
  {
   "cell_type": "markdown",
   "id": "9f10c46e-4365-4318-99d3-9c5ac6397636",
   "metadata": {},
   "source": [
    "The zoo.py file was created within VSCode and imported. In order to use the hours() function, a zoo. prefix was needed as there could have theoretically been another hours() function defined within the main program."
   ]
  },
  {
   "cell_type": "code",
   "execution_count": 4,
   "id": "9ecefeb0-f13b-4c9e-9af4-4183b8fb7aa7",
   "metadata": {},
   "outputs": [
    {
     "name": "stdout",
     "output_type": "stream",
     "text": [
      "Open 9-5 daily\n"
     ]
    }
   ],
   "source": [
    "import zoo as menagerie\n",
    "\n",
    "menagerie.hours()"
   ]
  },
  {
   "cell_type": "markdown",
   "id": "82d5f37e-3df4-41d5-ac6d-b61e2d4ddbf2",
   "metadata": {},
   "source": [
    "This problem was exactly the same as the other, with the exception that zoo needed to be imported as an alias named \"menagerie\". This is typically done either to save time writing the module name or to make the module name more descriptive. This time the prefix needed to change to menagerie. and again the hours function was run."
   ]
  },
  {
   "cell_type": "code",
   "execution_count": 2,
   "id": "6d0a45ea-6229-42f9-b90a-ffa3b008e382",
   "metadata": {},
   "outputs": [],
   "source": [
    "import csv\n",
    "books = [['author','book'],['J R R Tolkien', 'The Hobbit'],['Lynee Truss','Eats, Shoots & Leaves']]\n",
    "with open('books','wt') as output:\n",
    "    csvoutput = csv.writer(output)\n",
    "    csvoutput.writerows(books)"
   ]
  },
  {
   "cell_type": "markdown",
   "id": "4a6440ae-2d3c-46af-b296-797398d50693",
   "metadata": {},
   "source": [
    "The csv module was imported and all the desired output was entered into a list of lists called books. Using the with open keyword will automatically close the 'books' file once it is done. Each list of books is then written as a row."
   ]
  }
 ],
 "metadata": {
  "kernelspec": {
   "display_name": "Python 3 (ipykernel)",
   "language": "python",
   "name": "python3"
  },
  "language_info": {
   "codemirror_mode": {
    "name": "ipython",
    "version": 3
   },
   "file_extension": ".py",
   "mimetype": "text/x-python",
   "name": "python",
   "nbconvert_exporter": "python",
   "pygments_lexer": "ipython3",
   "version": "3.12.7"
  }
 },
 "nbformat": 4,
 "nbformat_minor": 5
}
